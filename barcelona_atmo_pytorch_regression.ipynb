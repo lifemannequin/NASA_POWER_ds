{
 "cells": [
  {
   "cell_type": "code",
   "execution_count": null,
   "id": "c5b58d09",
   "metadata": {},
   "outputs": [],
   "source": []
  },
  {
   "cell_type": "code",
   "execution_count": 1,
   "id": "48975386",
   "metadata": {},
   "outputs": [],
   "source": [
    "import torch\n",
    "import torch.nn as nn\n",
    "from torch.autograd import Variable\n",
    "import torch.functional as F\n",
    "from torch.utils.data import Dataset, DataLoader\n",
    "from torch.utils.data.sampler import SubsetRandomSampler\n",
    "\n",
    "import numpy as np\n",
    "import pandas as pd\n",
    "import matplotlib.pyplot as plt\n",
    "from sklearn.datasets import load_boston\n",
    "from sklearn.preprocessing import StandardScaler\n",
    "from sklearn.model_selection import train_test_split\n",
    "from sklearn.metrics import mean_squared_error"
   ]
  },
  {
   "cell_type": "code",
   "execution_count": 2,
   "id": "bcb40d2e",
   "metadata": {},
   "outputs": [],
   "source": [
    "filepath = \"/home/veroastro/Documents/NASA_POWER_ds/data/\"\n",
    "df = pd.read_csv(filepath + \"POWER_Point_Hourly_20010101_20211231_041d39N_002d17E_UTC.csv\")\n",
    "df_new = df.drop(['T2MWET','T2MDEW', 'PS'], axis = 1) # dropped to deal with multicollinearity\n",
    "X = df_new.drop('T2M', axis= 1)\n",
    "y = df_new['T2M']\n",
    "size =len(X.columns)\n",
    "\n",
    "# create train and test indices\n",
    "train, test = train_test_split(list(range(X.shape[0])), test_size= 0.3)\n",
    "\n",
    "input_size = 11\n",
    "hidden1 = 250\n",
    "hidden2 = 50\n",
    "output_size = 1\n",
    "learning_rate = 0.01\n",
    "batch_size = 5\n",
    "num_epochs = 30\n",
    "\n",
    "class PrepareData(Dataset):\n",
    "\n",
    "    def __init__(self, X, y, scale_X=True):\n",
    "        if not torch.is_tensor(X):\n",
    "            if scale_X:\n",
    "                X = StandardScaler().fit_transform(X)\n",
    "                self.X = torch.tensor(X)\n",
    "        if not torch.is_tensor(y):\n",
    "            self.y = torch.tensor(y)\n",
    "\n",
    "    def __len__(self):\n",
    "        return len(self.X)\n",
    "\n",
    "    def __getitem__(self, idx):\n",
    "        return self.X[idx], self.y[idx]\n",
    "\n",
    "ds = PrepareData(X, y=y, scale_X=True)\n",
    "\n",
    "train_set = DataLoader(ds, batch_size=batch_size,\n",
    "                       sampler=SubsetRandomSampler(train))\n",
    "test_set = DataLoader(ds, batch_size=batch_size,\n",
    "                      sampler=SubsetRandomSampler(test))\n"
   ]
  },
  {
   "cell_type": "code",
   "execution_count": 3,
   "id": "1e71b64c",
   "metadata": {},
   "outputs": [],
   "source": [
    "# Define a Neural Network class\n",
    "\n",
    "class Net(nn.Module):\n",
    "    \n",
    "    # Constructor\n",
    "    def __init__(self, D_in, H1, H2, D_out):\n",
    "        super(Net, self).__init__()\n",
    "        self.linear1 = nn.Linear(D_in, H1)\n",
    "        self.linear2 = nn.Linear(H1, H2)\n",
    "        self.linear3 = nn.Linear(H2, D_out)\n",
    "\n",
    "    # Prediction    \n",
    "    def forward(self, x):\n",
    "        x = torch.relu(self.linear1(x)) \n",
    "        x = torch.relu(self.linear2(x))\n",
    "        x = self.linear3(x)\n",
    "        return x\n",
    "\n",
    "model = Net(input_size, hidden1, hidden2, output_size)"
   ]
  },
  {
   "cell_type": "code",
   "execution_count": 4,
   "id": "699b7256",
   "metadata": {},
   "outputs": [],
   "source": [
    "criterion = nn.MSELoss()\n",
    "optimizer = torch.optim.Adam(model.parameters(), lr=learning_rate)"
   ]
  },
  {
   "cell_type": "code",
   "execution_count": 6,
   "id": "4ada75b6",
   "metadata": {},
   "outputs": [
    {
     "name": "stdout",
     "output_type": "stream",
     "text": [
      "epoch 0\n",
      "epoch 10\n",
      "epoch 20\n",
      "epoch 30\n",
      "epoch 40\n",
      "epoch 50\n",
      "epoch 60\n",
      "epoch 70\n",
      "epoch 80\n",
      "epoch 90\n"
     ]
    }
   ],
   "source": [
    "#training the model\n",
    "epochs = 100\n",
    "i = 0\n",
    "useful_stuff = {'training_loss': [],'validation_error': []}  \n",
    "for epoch in range(epochs):\n",
    "    for i, (x, y) in enumerate(train_set):\n",
    "           \n",
    "        optimizer.zero_grad()\n",
    "        z = model(x.view(-1,size).float())\n",
    "        loss = criterion(z, y.view(-1,1).float())\n",
    "        loss.backward()\n",
    "        optimizer.step()\n",
    "         #loss for every iteration\n",
    "        useful_stuff['training_loss'].append(loss.data.item())\n",
    "    correct = 0\n",
    "    preds = []\n",
    "    abs_zy = []\n",
    "    for x, y in test_set:\n",
    "            #validation \n",
    "       \n",
    "        z = model(x.view(-1, size).float())\n",
    "        abs_delta = np.abs(z.detach().numpy() - y.view(-1,1).detach().numpy() )\n",
    "        preds.append(z) \n",
    "        abs_zy.append(abs_delta)\n",
    "        correct += 1\n",
    "    mae = np.mean(abs_delta)\n",
    "    useful_stuff['validation_error'].append(mae)\n",
    "    if epoch % 10 == 0:\n",
    "        print('epoch', epoch)\n",
    "       "
   ]
  },
  {
   "cell_type": "code",
   "execution_count": 7,
   "id": "e2fbb4ae",
   "metadata": {},
   "outputs": [
    {
     "data": {
      "image/png": "[encoded data removed]",
      "text/plain": [
       "<Figure size 432x288 with 2 Axes>"
      ]
     },
     "metadata": {
      "needs_background": "light"
     },
     "output_type": "display_data"
    }
   ],
   "source": [
    "# plotting loss and mean absolute error\n",
    "plt.subplot(2, 1, 1)\n",
    "plt.plot(useful_stuff['training_loss'], 'r')\n",
    "plt.ylabel('loss')\n",
    "plt.title('training loss iterations')\n",
    "\n",
    "plt.subplot(2, 1, 2)\n",
    "plt.plot(useful_stuff['validation_error'])\n",
    "plt.ylabel('mean absolute error')\n",
    "plt.xlabel('epochs')   \n",
    "plt.savefig('pytorch')\n",
    "plt.show()"
   ]
  },
  {
   "cell_type": "code",
   "execution_count": null,
   "id": "f79bf94c",
   "metadata": {},
   "outputs": [],
   "source": []
  },
  {
   "cell_type": "code",
   "execution_count": null,
   "id": "03775967",
   "metadata": {},
   "outputs": [],
   "source": []
  }
 ],
 "metadata": {
  "kernelspec": {
   "display_name": "Python 3 (ipykernel)",
   "language": "python",
   "name": "python3"
  },
  "language_info": {
   "codemirror_mode": {
    "name": "ipython",
    "version": 3
   },
   "file_extension": ".py",
   "mimetype": "text/x-python",
   "name": "python",
   "nbconvert_exporter": "python",
   "pygments_lexer": "ipython3",
   "version": "3.9.7"
  }
 },
 "nbformat": 4,
 "nbformat_minor": 5
}
