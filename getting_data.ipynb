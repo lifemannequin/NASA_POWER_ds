{
 "cells": [
  {
   "cell_type": "markdown",
   "id": "7dcec919",
   "metadata": {},
   "source": [
    "Here is the data request from the NASA POWER API to get the data from the point in Barcelona for the dates between 01/01/2001 and 31/12/2021. This notebook does downloads both the JSON and CSV files and writes them to the folder. "
   ]
  },
  {
   "cell_type": "code",
   "execution_count": 10,
   "id": "14edc4e0",
   "metadata": {},
   "outputs": [],
   "source": [
    "import requests\n",
    "import json\n",
    "import os\n",
    "import csv"
   ]
  },
  {
   "cell_type": "code",
   "execution_count": 8,
   "id": "c3a1e320",
   "metadata": {},
   "outputs": [],
   "source": [
    "locations = [(41.3874, 2.1686)] #Barcelona\n",
    "# JSON \n",
    "output = r\"\"\n",
    "base_url = r\"https://power.larc.nasa.gov//api/temporal/hourly/point?parameters=WS10M,WD10M,T2MDEW,T2MWET,T2M,V10M,RH2M,PS,PRECTOT,QV2M,U10M&community=SB&longitude={longitude}&latitude={latitude}&start=20010101&end=20211231&format=JSON\"\n",
    "\n",
    "api_request_url = base_url.format(longitude=longitude, latitude=latitude)\n",
    "\n",
    "response = requests.get(url=api_request_url, verify=True, timeout=120.00)\n",
    "\n",
    "content = json.loads(response.content.decode('utf-8'))\n",
    "filename = response.headers['content-disposition'].split('filename=')[1]\n",
    "\n",
    "filepath = os.path.join(output, filename)\n",
    "with open(filepath, 'w') as file_object:\n",
    "    json.dump(content, file_object)"
   ]
  },
  {
   "cell_type": "code",
   "execution_count": 17,
   "id": "f0304c50",
   "metadata": {},
   "outputs": [],
   "source": [
    "# CSV\n",
    "base_url_csv = r\"https://power.larc.nasa.gov//api/temporal/hourly/point?parameters=WS10M,WD10M,T2MDEW,T2MWET,T2M,V10M,RH2M,PS,PRECTOT,QV2M,U10M&community=SB&longitude={longitude}&latitude={latitude}&start=20010101&end=20211231&format=CSV\"\n",
    "\n",
    "api_request_url = base_url_csv.format(longitude=longitude, latitude=latitude)\n",
    "filename = response.headers['content-disposition'].split('filename=')[1]\n",
    "\n",
    "with open(os.path.split(filename)[1], 'wb') as f, \\\n",
    "        requests.get(api_request_url, stream=True) as r:\n",
    "    for line in r.iter_lines():\n",
    "        f.write(line+'\\n'.encode())"
   ]
  },
  {
   "cell_type": "code",
   "execution_count": null,
   "id": "265c9b68",
   "metadata": {},
   "outputs": [],
   "source": []
  }
 ],
 "metadata": {
  "kernelspec": {
   "display_name": "Python 3 (ipykernel)",
   "language": "python",
   "name": "python3"
  },
  "language_info": {
   "codemirror_mode": {
    "name": "ipython",
    "version": 3
   },
   "file_extension": ".py",
   "mimetype": "text/x-python",
   "name": "python",
   "nbconvert_exporter": "python",
   "pygments_lexer": "ipython3",
   "version": "3.9.7"
  }
 },
 "nbformat": 4,
 "nbformat_minor": 5
}
