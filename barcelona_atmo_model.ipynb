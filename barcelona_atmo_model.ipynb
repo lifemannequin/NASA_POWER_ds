{
 "cells": [
  {
   "cell_type": "code",
   "execution_count": null,
   "id": "be7b18a0",
   "metadata": {},
   "outputs": [],
   "source": []
  },
  {
   "cell_type": "code",
   "execution_count": 1,
   "id": "86bc1531",
   "metadata": {},
   "outputs": [],
   "source": [
    "import pandas as pd\n",
    "import numpy as np\n",
    "import matplotlib.pyplot as plt\n",
    "import seaborn as sns"
   ]
  },
  {
   "cell_type": "code",
   "execution_count": 2,
   "id": "d4dca1fe",
   "metadata": {},
   "outputs": [
    {
     "data": {
      "text/html": [
       "<div>\n",
       "<style scoped>\n",
       "    .dataframe tbody tr th:only-of-type {\n",
       "        vertical-align: middle;\n",
       "    }\n",
       "\n",
       "    .dataframe tbody tr th {\n",
       "        vertical-align: top;\n",
       "    }\n",
       "\n",
       "    .dataframe thead th {\n",
       "        text-align: right;\n",
       "    }\n",
       "</style>\n",
       "<table border=\"1\" class=\"dataframe\">\n",
       "  <thead>\n",
       "    <tr style=\"text-align: right;\">\n",
       "      <th></th>\n",
       "      <th>YEAR</th>\n",
       "      <th>MO</th>\n",
       "      <th>DY</th>\n",
       "      <th>HR</th>\n",
       "      <th>WD10M</th>\n",
       "      <th>T2MWET</th>\n",
       "      <th>T2MDEW</th>\n",
       "      <th>PS</th>\n",
       "      <th>WS10M</th>\n",
       "      <th>V10M</th>\n",
       "      <th>U10M</th>\n",
       "      <th>QV2M</th>\n",
       "      <th>T2M</th>\n",
       "      <th>RH2M</th>\n",
       "      <th>PRECTOTCORR</th>\n",
       "    </tr>\n",
       "  </thead>\n",
       "  <tbody>\n",
       "    <tr>\n",
       "      <th>0</th>\n",
       "      <td>2001</td>\n",
       "      <td>1</td>\n",
       "      <td>1</td>\n",
       "      <td>0</td>\n",
       "      <td>286.64</td>\n",
       "      <td>1.42</td>\n",
       "      <td>-0.66</td>\n",
       "      <td>97.95</td>\n",
       "      <td>3.00</td>\n",
       "      <td>-0.86</td>\n",
       "      <td>2.88</td>\n",
       "      <td>3.85</td>\n",
       "      <td>3.49</td>\n",
       "      <td>76.50</td>\n",
       "      <td>0.0</td>\n",
       "    </tr>\n",
       "    <tr>\n",
       "      <th>1</th>\n",
       "      <td>2001</td>\n",
       "      <td>1</td>\n",
       "      <td>1</td>\n",
       "      <td>1</td>\n",
       "      <td>295.52</td>\n",
       "      <td>1.70</td>\n",
       "      <td>-0.24</td>\n",
       "      <td>97.89</td>\n",
       "      <td>2.87</td>\n",
       "      <td>-1.23</td>\n",
       "      <td>2.59</td>\n",
       "      <td>3.91</td>\n",
       "      <td>3.65</td>\n",
       "      <td>77.62</td>\n",
       "      <td>0.0</td>\n",
       "    </tr>\n",
       "    <tr>\n",
       "      <th>2</th>\n",
       "      <td>2001</td>\n",
       "      <td>1</td>\n",
       "      <td>1</td>\n",
       "      <td>2</td>\n",
       "      <td>296.91</td>\n",
       "      <td>1.70</td>\n",
       "      <td>-0.01</td>\n",
       "      <td>97.82</td>\n",
       "      <td>2.90</td>\n",
       "      <td>-1.31</td>\n",
       "      <td>2.59</td>\n",
       "      <td>3.97</td>\n",
       "      <td>3.41</td>\n",
       "      <td>80.12</td>\n",
       "      <td>0.0</td>\n",
       "    </tr>\n",
       "    <tr>\n",
       "      <th>3</th>\n",
       "      <td>2001</td>\n",
       "      <td>1</td>\n",
       "      <td>1</td>\n",
       "      <td>3</td>\n",
       "      <td>293.30</td>\n",
       "      <td>2.04</td>\n",
       "      <td>0.51</td>\n",
       "      <td>97.76</td>\n",
       "      <td>2.88</td>\n",
       "      <td>-1.14</td>\n",
       "      <td>2.65</td>\n",
       "      <td>4.15</td>\n",
       "      <td>3.55</td>\n",
       "      <td>82.19</td>\n",
       "      <td>0.0</td>\n",
       "    </tr>\n",
       "    <tr>\n",
       "      <th>4</th>\n",
       "      <td>2001</td>\n",
       "      <td>1</td>\n",
       "      <td>1</td>\n",
       "      <td>4</td>\n",
       "      <td>295.29</td>\n",
       "      <td>2.64</td>\n",
       "      <td>1.36</td>\n",
       "      <td>97.71</td>\n",
       "      <td>2.82</td>\n",
       "      <td>-1.20</td>\n",
       "      <td>2.55</td>\n",
       "      <td>4.39</td>\n",
       "      <td>3.92</td>\n",
       "      <td>84.69</td>\n",
       "      <td>0.0</td>\n",
       "    </tr>\n",
       "  </tbody>\n",
       "</table>\n",
       "</div>"
      ],
      "text/plain": [
       "   YEAR  MO  DY  HR   WD10M  T2MWET  T2MDEW     PS  WS10M  V10M  U10M  QV2M  \\\n",
       "0  2001   1   1   0  286.64    1.42   -0.66  97.95   3.00 -0.86  2.88  3.85   \n",
       "1  2001   1   1   1  295.52    1.70   -0.24  97.89   2.87 -1.23  2.59  3.91   \n",
       "2  2001   1   1   2  296.91    1.70   -0.01  97.82   2.90 -1.31  2.59  3.97   \n",
       "3  2001   1   1   3  293.30    2.04    0.51  97.76   2.88 -1.14  2.65  4.15   \n",
       "4  2001   1   1   4  295.29    2.64    1.36  97.71   2.82 -1.20  2.55  4.39   \n",
       "\n",
       "    T2M   RH2M  PRECTOTCORR  \n",
       "0  3.49  76.50          0.0  \n",
       "1  3.65  77.62          0.0  \n",
       "2  3.41  80.12          0.0  \n",
       "3  3.55  82.19          0.0  \n",
       "4  3.92  84.69          0.0  "
      ]
     },
     "execution_count": 2,
     "metadata": {},
     "output_type": "execute_result"
    }
   ],
   "source": [
    "filepath = \"/home/veroastro/Documents/NASA_POWER_ds/data/\"\n",
    "df = pd.read_csv(filepath + \"POWER_Point_Hourly_20010101_20211231_041d39N_002d17E_UTC.csv\")\n",
    "df.head()"
   ]
  },
  {
   "cell_type": "code",
   "execution_count": 6,
   "id": "81761f75",
   "metadata": {},
   "outputs": [],
   "source": [
    "df_new = df.drop(['T2MWET','T2MDEW', 'PS'], axis = 1) # dropped to deal with multicollinearity"
   ]
  },
  {
   "cell_type": "code",
   "execution_count": 7,
   "id": "ae753ba2",
   "metadata": {},
   "outputs": [
    {
     "data": {
      "text/plain": [
       "Index(['YEAR', 'MO', 'DY', 'HR', 'WD10M', 'WS10M', 'V10M', 'U10M', 'QV2M',\n",
       "       'RH2M', 'PRECTOTCORR'],\n",
       "      dtype='object')"
      ]
     },
     "execution_count": 7,
     "metadata": {},
     "output_type": "execute_result"
    }
   ],
   "source": [
    "from sklearn.preprocessing import MinMaxScaler\n",
    "X = df_new.drop('T2M', axis= 1)\n",
    "y = df_new['T2M']\n",
    "scaler = MinMaxScaler()\n",
    "X_t = scaler.fit_transform(X)\n",
    "X.columns"
   ]
  },
  {
   "cell_type": "code",
   "execution_count": 8,
   "id": "017f6ed4",
   "metadata": {},
   "outputs": [],
   "source": [
    "# Splitting the Xand y datasets into training and test set and normalising the data\n",
    "from sklearn.model_selection import train_test_split\n",
    "\n",
    "X_train, X_test, y_train, y_test = train_test_split(X_t, y, \n",
    "                                                    test_size=0.3, random_state=42)"
   ]
  },
  {
   "cell_type": "code",
   "execution_count": null,
   "id": "3cc82f98",
   "metadata": {},
   "outputs": [],
   "source": []
  },
  {
   "cell_type": "code",
   "execution_count": null,
   "id": "e81c1a87",
   "metadata": {},
   "outputs": [],
   "source": [
    "# Random Forest with GridSearchCV\n",
    "from sklearn.ensemble import RandomForestRegressor\n",
    "from sklearn.model_selection import GridSearchCV\n",
    "RF = RandomForestRegressor(random_state = 42)\n",
    "param_grid = {  'bootstrap': [True, False],\n",
    "                'max_features': ['auto', 'sqrt','log2'], \n",
    "                'n_estimators': range(100,400, 20)}\n",
    "\n",
    "rf= GridSearchCV(RF,\n",
    "                  param_grid=param_grid)\n",
    "\n",
    "# Train the model on training data\n",
    "rf.fit(X_train, y_train);\n",
    "\n"
   ]
  },
  {
   "cell_type": "code",
   "execution_count": null,
   "id": "9cfae505",
   "metadata": {},
   "outputs": [],
   "source": [
    "predictions = rf.predict(X_test)"
   ]
  },
  {
   "cell_type": "code",
   "execution_count": null,
   "id": "bec0e8d2",
   "metadata": {},
   "outputs": [],
   "source": [
    "rf.best_params_ ,rf.best_score_"
   ]
  },
  {
   "cell_type": "code",
   "execution_count": null,
   "id": "f40ea381",
   "metadata": {},
   "outputs": [],
   "source": []
  }
 ],
 "metadata": {
  "kernelspec": {
   "display_name": "Python 3 (ipykernel)",
   "language": "python",
   "name": "python3"
  },
  "language_info": {
   "codemirror_mode": {
    "name": "ipython",
    "version": 3
   },
   "file_extension": ".py",
   "mimetype": "text/x-python",
   "name": "python",
   "nbconvert_exporter": "python",
   "pygments_lexer": "ipython3",
   "version": "3.9.7"
  }
 },
 "nbformat": 4,
 "nbformat_minor": 5
}
