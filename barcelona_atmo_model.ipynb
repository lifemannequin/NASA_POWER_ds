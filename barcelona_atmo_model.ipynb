{
 "cells": [
  {
   "cell_type": "markdown",
   "id": "8445f4f7",
   "metadata": {},
   "source": [
    "# Running models\n",
    "\n",
    "I use a Deep Neural Network to estimate the temperature at 2m given several atmospheric parameters. \n",
    "I also run a gridserchCV with a random forest regressor using a smaller day average sample rather than the hourly sample."
   ]
  },
  {
   "cell_type": "code",
   "execution_count": 1,
   "id": "86bc1531",
   "metadata": {},
   "outputs": [
    {
     "name": "stderr",
     "output_type": "stream",
     "text": [
      "2022-04-12 15:15:50.588473: W tensorflow/stream_executor/platform/default/dso_loader.cc:64] Could not load dynamic library 'libcudart.so.11.0'; dlerror: libcudart.so.11.0: cannot open shared object file: No such file or directory\n",
      "2022-04-12 15:15:50.588495: I tensorflow/stream_executor/cuda/cudart_stub.cc:29] Ignore above cudart dlerror if you do not have a GPU set up on your machine.\n"
     ]
    }
   ],
   "source": [
    "import pandas as pd\n",
    "import numpy as np\n",
    "import matplotlib.pyplot as plt\n",
    "import seaborn as sns\n",
    "from keras.models import Sequential\n",
    "from keras.layers import Dense\n",
    "#from keras.wrappers.scikit_learn import KerasRegressor\n",
    "from scikeras.wrappers import KerasRegressor"
   ]
  },
  {
   "cell_type": "code",
   "execution_count": 2,
   "id": "d4dca1fe",
   "metadata": {
    "scrolled": true
   },
   "outputs": [
    {
     "data": {
      "text/html": [
       "<div>\n",
       "<style scoped>\n",
       "    .dataframe tbody tr th:only-of-type {\n",
       "        vertical-align: middle;\n",
       "    }\n",
       "\n",
       "    .dataframe tbody tr th {\n",
       "        vertical-align: top;\n",
       "    }\n",
       "\n",
       "    .dataframe thead th {\n",
       "        text-align: right;\n",
       "    }\n",
       "</style>\n",
       "<table border=\"1\" class=\"dataframe\">\n",
       "  <thead>\n",
       "    <tr style=\"text-align: right;\">\n",
       "      <th></th>\n",
       "      <th>YEAR</th>\n",
       "      <th>MO</th>\n",
       "      <th>DY</th>\n",
       "      <th>HR</th>\n",
       "      <th>WD10M</th>\n",
       "      <th>T2MWET</th>\n",
       "      <th>T2MDEW</th>\n",
       "      <th>PS</th>\n",
       "      <th>WS10M</th>\n",
       "      <th>V10M</th>\n",
       "      <th>U10M</th>\n",
       "      <th>QV2M</th>\n",
       "      <th>T2M</th>\n",
       "      <th>RH2M</th>\n",
       "      <th>PRECTOTCORR</th>\n",
       "    </tr>\n",
       "  </thead>\n",
       "  <tbody>\n",
       "    <tr>\n",
       "      <th>0</th>\n",
       "      <td>2001</td>\n",
       "      <td>1</td>\n",
       "      <td>1</td>\n",
       "      <td>0</td>\n",
       "      <td>286.64</td>\n",
       "      <td>1.42</td>\n",
       "      <td>-0.66</td>\n",
       "      <td>97.95</td>\n",
       "      <td>3.00</td>\n",
       "      <td>-0.86</td>\n",
       "      <td>2.88</td>\n",
       "      <td>3.85</td>\n",
       "      <td>3.49</td>\n",
       "      <td>76.50</td>\n",
       "      <td>0.0</td>\n",
       "    </tr>\n",
       "    <tr>\n",
       "      <th>1</th>\n",
       "      <td>2001</td>\n",
       "      <td>1</td>\n",
       "      <td>1</td>\n",
       "      <td>1</td>\n",
       "      <td>295.52</td>\n",
       "      <td>1.70</td>\n",
       "      <td>-0.24</td>\n",
       "      <td>97.89</td>\n",
       "      <td>2.87</td>\n",
       "      <td>-1.23</td>\n",
       "      <td>2.59</td>\n",
       "      <td>3.91</td>\n",
       "      <td>3.65</td>\n",
       "      <td>77.62</td>\n",
       "      <td>0.0</td>\n",
       "    </tr>\n",
       "    <tr>\n",
       "      <th>2</th>\n",
       "      <td>2001</td>\n",
       "      <td>1</td>\n",
       "      <td>1</td>\n",
       "      <td>2</td>\n",
       "      <td>296.91</td>\n",
       "      <td>1.70</td>\n",
       "      <td>-0.01</td>\n",
       "      <td>97.82</td>\n",
       "      <td>2.90</td>\n",
       "      <td>-1.31</td>\n",
       "      <td>2.59</td>\n",
       "      <td>3.97</td>\n",
       "      <td>3.41</td>\n",
       "      <td>80.12</td>\n",
       "      <td>0.0</td>\n",
       "    </tr>\n",
       "    <tr>\n",
       "      <th>3</th>\n",
       "      <td>2001</td>\n",
       "      <td>1</td>\n",
       "      <td>1</td>\n",
       "      <td>3</td>\n",
       "      <td>293.30</td>\n",
       "      <td>2.04</td>\n",
       "      <td>0.51</td>\n",
       "      <td>97.76</td>\n",
       "      <td>2.88</td>\n",
       "      <td>-1.14</td>\n",
       "      <td>2.65</td>\n",
       "      <td>4.15</td>\n",
       "      <td>3.55</td>\n",
       "      <td>82.19</td>\n",
       "      <td>0.0</td>\n",
       "    </tr>\n",
       "    <tr>\n",
       "      <th>4</th>\n",
       "      <td>2001</td>\n",
       "      <td>1</td>\n",
       "      <td>1</td>\n",
       "      <td>4</td>\n",
       "      <td>295.29</td>\n",
       "      <td>2.64</td>\n",
       "      <td>1.36</td>\n",
       "      <td>97.71</td>\n",
       "      <td>2.82</td>\n",
       "      <td>-1.20</td>\n",
       "      <td>2.55</td>\n",
       "      <td>4.39</td>\n",
       "      <td>3.92</td>\n",
       "      <td>84.69</td>\n",
       "      <td>0.0</td>\n",
       "    </tr>\n",
       "  </tbody>\n",
       "</table>\n",
       "</div>"
      ],
      "text/plain": [
       "   YEAR  MO  DY  HR   WD10M  T2MWET  T2MDEW     PS  WS10M  V10M  U10M  QV2M  \\\n",
       "0  2001   1   1   0  286.64    1.42   -0.66  97.95   3.00 -0.86  2.88  3.85   \n",
       "1  2001   1   1   1  295.52    1.70   -0.24  97.89   2.87 -1.23  2.59  3.91   \n",
       "2  2001   1   1   2  296.91    1.70   -0.01  97.82   2.90 -1.31  2.59  3.97   \n",
       "3  2001   1   1   3  293.30    2.04    0.51  97.76   2.88 -1.14  2.65  4.15   \n",
       "4  2001   1   1   4  295.29    2.64    1.36  97.71   2.82 -1.20  2.55  4.39   \n",
       "\n",
       "    T2M   RH2M  PRECTOTCORR  \n",
       "0  3.49  76.50          0.0  \n",
       "1  3.65  77.62          0.0  \n",
       "2  3.41  80.12          0.0  \n",
       "3  3.55  82.19          0.0  \n",
       "4  3.92  84.69          0.0  "
      ]
     },
     "execution_count": 2,
     "metadata": {},
     "output_type": "execute_result"
    }
   ],
   "source": [
    "filepath = \"/home/veroastro/Documents/NASA_POWER_ds/data/\"\n",
    "df = pd.read_csv(filepath + \"POWER_Point_Hourly_20010101_20211231_041d39N_002d17E_UTC.csv\")\n",
    "df.head()"
   ]
  },
  {
   "cell_type": "code",
   "execution_count": 3,
   "id": "81761f75",
   "metadata": {},
   "outputs": [],
   "source": [
    "df_new = df.drop(['T2MWET','T2MDEW', 'PS'], axis = 1) # dropped to deal with multicollinearity"
   ]
  },
  {
   "cell_type": "code",
   "execution_count": 4,
   "id": "ae753ba2",
   "metadata": {},
   "outputs": [
    {
     "data": {
      "text/plain": [
       "Index(['YEAR', 'MO', 'DY', 'HR', 'WD10M', 'WS10M', 'V10M', 'U10M', 'QV2M',\n",
       "       'RH2M', 'PRECTOTCORR'],\n",
       "      dtype='object')"
      ]
     },
     "execution_count": 4,
     "metadata": {},
     "output_type": "execute_result"
    }
   ],
   "source": [
    "# defining Xand y and scalling X\n",
    "from sklearn.preprocessing import MinMaxScaler\n",
    "X = df_new.drop('T2M', axis= 1)\n",
    "y = df_new['T2M']\n",
    "scaler = MinMaxScaler()\n",
    "X_t = scaler.fit_transform(X)\n",
    "X.columns"
   ]
  },
  {
   "cell_type": "code",
   "execution_count": 5,
   "id": "017f6ed4",
   "metadata": {},
   "outputs": [],
   "source": [
    "# Splitting the Xand y datasets into training and test set and normalising the data\n",
    "from sklearn.model_selection import train_test_split\n",
    "\n",
    "X_train, X_test, y_train, y_test = train_test_split(X_t, y, \n",
    "                                                    test_size=0.3, random_state=42)"
   ]
  },
  {
   "cell_type": "code",
   "execution_count": 6,
   "id": "3cc82f98",
   "metadata": {},
   "outputs": [],
   "source": [
    "# define model\n",
    "def baseline_model():\n",
    "    # create model\n",
    "    model = Sequential()\n",
    "    model.add(Dense(250, input_dim=11, kernel_initializer='normal', activation='relu'))\n",
    "    model.add(Dense(50, kernel_initializer='normal', activation='relu'))\n",
    "    model.add(Dense(1, kernel_initializer='normal'))\n",
    "    # Compile model\n",
    "    model.compile(loss='mean_squared_error', optimizer='adam')\n",
    "    return model"
   ]
  },
  {
   "cell_type": "code",
   "execution_count": 7,
   "id": "69a93001",
   "metadata": {},
   "outputs": [
    {
     "name": "stderr",
     "output_type": "stream",
     "text": [
      "/home/veroastro/anaconda3/lib/python3.9/site-packages/scikeras/wrappers.py:289: UserWarning: ``build_fn`` will be renamed to ``model`` in a future release, at which point use of ``build_fn`` will raise an Error instead.\n",
      "  warnings.warn(\n",
      "2022-04-12 15:15:56.863107: E tensorflow/stream_executor/cuda/cuda_driver.cc:271] failed call to cuInit: CUDA_ERROR_NO_DEVICE: no CUDA-capable device is detected\n",
      "2022-04-12 15:15:56.863138: I tensorflow/stream_executor/cuda/cuda_diagnostics.cc:156] kernel driver does not appear to be running on this host (veroastro): /proc/driver/nvidia/version does not exist\n",
      "2022-04-12 15:15:56.864244: I tensorflow/core/platform/cpu_feature_guard.cc:151] This TensorFlow binary is optimized with oneAPI Deep Neural Network Library (oneDNN) to use the following CPU instructions in performance-critical operations:  AVX2 FMA\n",
      "To enable them in other operations, rebuild TensorFlow with the appropriate compiler flags.\n"
     ]
    }
   ],
   "source": [
    "# run the model, fit the model and make predictions\n",
    "estimator = KerasRegressor(model=baseline_model, epochs=100, batch_size=5, verbose=0, validation_split=0.3)\n",
    "\n",
    "estimator.fit(X_train, y_train)\n",
    "predictions = estimator.predict(X_test)\n",
    "pred_train = estimator.predict(X_train)"
   ]
  },
  {
   "cell_type": "code",
   "execution_count": 18,
   "id": "647b3592",
   "metadata": {},
   "outputs": [],
   "source": [
    "estimator.model_.save('saved_model.h5')"
   ]
  },
  {
   "cell_type": "code",
   "execution_count": 10,
   "id": "d5419d39",
   "metadata": {},
   "outputs": [
    {
     "name": "stdout",
     "output_type": "stream",
     "text": [
      "Mean Square Error: 0.018\n",
      "Error Percentage: 0.115 %\n"
     ]
    }
   ],
   "source": [
    "# print mean square errors between predicted and spectroscopic z\n",
    "from sklearn.metrics import mean_squared_error\n",
    "error = mean_squared_error(y_test,predictions)\n",
    "print('Mean Square Error:', round(error, 3))\n",
    "print('Error Percentage:', round(error*100/y_test.mean(), 3), '%')"
   ]
  },
  {
   "cell_type": "markdown",
   "id": "c9de258b",
   "metadata": {},
   "source": [
    "# Model Random Forest Regressor\n",
    "\n",
    "I wanted to try a Random forest regressor initially but it was computationally impossible with my computer, so I averaged the hours of the day to daily values."
   ]
  },
  {
   "cell_type": "code",
   "execution_count": 11,
   "id": "f864dd00",
   "metadata": {},
   "outputs": [
    {
     "data": {
      "text/html": [
       "<div>\n",
       "<style scoped>\n",
       "    .dataframe tbody tr th:only-of-type {\n",
       "        vertical-align: middle;\n",
       "    }\n",
       "\n",
       "    .dataframe tbody tr th {\n",
       "        vertical-align: top;\n",
       "    }\n",
       "\n",
       "    .dataframe thead th {\n",
       "        text-align: right;\n",
       "    }\n",
       "</style>\n",
       "<table border=\"1\" class=\"dataframe\">\n",
       "  <thead>\n",
       "    <tr style=\"text-align: right;\">\n",
       "      <th></th>\n",
       "      <th>YEAR</th>\n",
       "      <th>MO</th>\n",
       "      <th>DY</th>\n",
       "      <th>HR</th>\n",
       "      <th>WD10M</th>\n",
       "      <th>WS10M</th>\n",
       "      <th>V10M</th>\n",
       "      <th>U10M</th>\n",
       "      <th>QV2M</th>\n",
       "      <th>T2M</th>\n",
       "      <th>RH2M</th>\n",
       "      <th>PRECTOTCORR</th>\n",
       "    </tr>\n",
       "  </thead>\n",
       "  <tbody>\n",
       "    <tr>\n",
       "      <th>count</th>\n",
       "      <td>7670.000000</td>\n",
       "      <td>7670.000000</td>\n",
       "      <td>7670.000000</td>\n",
       "      <td>7670.0</td>\n",
       "      <td>7670.000000</td>\n",
       "      <td>7670.000000</td>\n",
       "      <td>7670.000000</td>\n",
       "      <td>7670.000000</td>\n",
       "      <td>7670.000000</td>\n",
       "      <td>7670.000000</td>\n",
       "      <td>7670.000000</td>\n",
       "      <td>7670.000000</td>\n",
       "    </tr>\n",
       "    <tr>\n",
       "      <th>mean</th>\n",
       "      <td>2011.000652</td>\n",
       "      <td>6.523077</td>\n",
       "      <td>15.729205</td>\n",
       "      <td>11.5</td>\n",
       "      <td>197.665083</td>\n",
       "      <td>3.258208</td>\n",
       "      <td>0.423541</td>\n",
       "      <td>0.555808</td>\n",
       "      <td>8.045337</td>\n",
       "      <td>15.562784</td>\n",
       "      <td>69.783476</td>\n",
       "      <td>0.058508</td>\n",
       "    </tr>\n",
       "    <tr>\n",
       "      <th>std</th>\n",
       "      <td>6.055498</td>\n",
       "      <td>3.448888</td>\n",
       "      <td>8.800483</td>\n",
       "      <td>0.0</td>\n",
       "      <td>63.903244</td>\n",
       "      <td>1.296116</td>\n",
       "      <td>1.747359</td>\n",
       "      <td>2.316965</td>\n",
       "      <td>3.018352</td>\n",
       "      <td>6.688787</td>\n",
       "      <td>10.876850</td>\n",
       "      <td>0.178946</td>\n",
       "    </tr>\n",
       "    <tr>\n",
       "      <th>min</th>\n",
       "      <td>2001.000000</td>\n",
       "      <td>1.000000</td>\n",
       "      <td>1.000000</td>\n",
       "      <td>11.5</td>\n",
       "      <td>25.452500</td>\n",
       "      <td>0.830417</td>\n",
       "      <td>-9.440000</td>\n",
       "      <td>-13.438750</td>\n",
       "      <td>1.458333</td>\n",
       "      <td>-1.981667</td>\n",
       "      <td>33.326250</td>\n",
       "      <td>0.000000</td>\n",
       "    </tr>\n",
       "    <tr>\n",
       "      <th>25%</th>\n",
       "      <td>2006.000000</td>\n",
       "      <td>4.000000</td>\n",
       "      <td>8.000000</td>\n",
       "      <td>11.5</td>\n",
       "      <td>152.568333</td>\n",
       "      <td>2.464167</td>\n",
       "      <td>-0.615521</td>\n",
       "      <td>-0.608021</td>\n",
       "      <td>5.596250</td>\n",
       "      <td>9.965417</td>\n",
       "      <td>62.071146</td>\n",
       "      <td>0.000000</td>\n",
       "    </tr>\n",
       "    <tr>\n",
       "      <th>50%</th>\n",
       "      <td>2011.000000</td>\n",
       "      <td>7.000000</td>\n",
       "      <td>16.000000</td>\n",
       "      <td>11.5</td>\n",
       "      <td>200.631458</td>\n",
       "      <td>2.934583</td>\n",
       "      <td>0.674792</td>\n",
       "      <td>0.583125</td>\n",
       "      <td>7.566458</td>\n",
       "      <td>15.163958</td>\n",
       "      <td>69.497083</td>\n",
       "      <td>0.002083</td>\n",
       "    </tr>\n",
       "    <tr>\n",
       "      <th>75%</th>\n",
       "      <td>2016.000000</td>\n",
       "      <td>10.000000</td>\n",
       "      <td>23.000000</td>\n",
       "      <td>11.5</td>\n",
       "      <td>246.275104</td>\n",
       "      <td>3.647083</td>\n",
       "      <td>1.674479</td>\n",
       "      <td>1.750208</td>\n",
       "      <td>10.486562</td>\n",
       "      <td>21.423333</td>\n",
       "      <td>77.488646</td>\n",
       "      <td>0.029583</td>\n",
       "    </tr>\n",
       "    <tr>\n",
       "      <th>max</th>\n",
       "      <td>2021.000000</td>\n",
       "      <td>12.000000</td>\n",
       "      <td>31.000000</td>\n",
       "      <td>11.5</td>\n",
       "      <td>345.980000</td>\n",
       "      <td>14.478750</td>\n",
       "      <td>6.560000</td>\n",
       "      <td>11.762917</td>\n",
       "      <td>16.321250</td>\n",
       "      <td>30.392500</td>\n",
       "      <td>98.575000</td>\n",
       "      <td>4.111250</td>\n",
       "    </tr>\n",
       "  </tbody>\n",
       "</table>\n",
       "</div>"
      ],
      "text/plain": [
       "              YEAR           MO           DY      HR        WD10M  \\\n",
       "count  7670.000000  7670.000000  7670.000000  7670.0  7670.000000   \n",
       "mean   2011.000652     6.523077    15.729205    11.5   197.665083   \n",
       "std       6.055498     3.448888     8.800483     0.0    63.903244   \n",
       "min    2001.000000     1.000000     1.000000    11.5    25.452500   \n",
       "25%    2006.000000     4.000000     8.000000    11.5   152.568333   \n",
       "50%    2011.000000     7.000000    16.000000    11.5   200.631458   \n",
       "75%    2016.000000    10.000000    23.000000    11.5   246.275104   \n",
       "max    2021.000000    12.000000    31.000000    11.5   345.980000   \n",
       "\n",
       "             WS10M         V10M         U10M         QV2M          T2M  \\\n",
       "count  7670.000000  7670.000000  7670.000000  7670.000000  7670.000000   \n",
       "mean      3.258208     0.423541     0.555808     8.045337    15.562784   \n",
       "std       1.296116     1.747359     2.316965     3.018352     6.688787   \n",
       "min       0.830417    -9.440000   -13.438750     1.458333    -1.981667   \n",
       "25%       2.464167    -0.615521    -0.608021     5.596250     9.965417   \n",
       "50%       2.934583     0.674792     0.583125     7.566458    15.163958   \n",
       "75%       3.647083     1.674479     1.750208    10.486562    21.423333   \n",
       "max      14.478750     6.560000    11.762917    16.321250    30.392500   \n",
       "\n",
       "              RH2M  PRECTOTCORR  \n",
       "count  7670.000000  7670.000000  \n",
       "mean     69.783476     0.058508  \n",
       "std      10.876850     0.178946  \n",
       "min      33.326250     0.000000  \n",
       "25%      62.071146     0.000000  \n",
       "50%      69.497083     0.002083  \n",
       "75%      77.488646     0.029583  \n",
       "max      98.575000     4.111250  "
      ]
     },
     "execution_count": 11,
     "metadata": {},
     "output_type": "execute_result"
    }
   ],
   "source": [
    "# Gouping the dataset by day of the month and year.\n",
    "df_daily = df_new.groupby(['YEAR', 'MO','DY']).mean().reset_index()\n",
    "df_daily.describe()"
   ]
  },
  {
   "cell_type": "code",
   "execution_count": 12,
   "id": "e7e88cae",
   "metadata": {},
   "outputs": [],
   "source": [
    "# defining new X and y, scaling X and separating the data\n",
    "X_d = df_daily.drop(['T2M','HR'], axis= 1)\n",
    "y_d = df_daily['T2M']\n",
    "\n",
    "X_dt = scaler.fit_transform(X_d)\n",
    "X_dtrain, X_dtest, y_dtrain, y_dtest = train_test_split(X_dt, y_d, \n",
    "                                                    test_size=0.3, random_state=42)"
   ]
  },
  {
   "cell_type": "code",
   "execution_count": 13,
   "id": "e81c1a87",
   "metadata": {},
   "outputs": [],
   "source": [
    "# Random Forest with GridSearchCV\n",
    "from sklearn.ensemble import RandomForestRegressor\n",
    "from sklearn.model_selection import GridSearchCV\n",
    "RF = RandomForestRegressor(random_state = 42)\n",
    "param_grid = {  'bootstrap': [True],\n",
    "                'max_features': ['auto', 'sqrt','log2'], \n",
    "                'n_estimators': range(100,400, 20)}\n",
    "\n",
    "rf= GridSearchCV(RF,\n",
    "                  param_grid=param_grid, cv = 5)\n",
    "\n",
    "# Train the model on training data\n",
    "rf.fit(X_dtrain, y_dtrain);\n",
    "\n"
   ]
  },
  {
   "cell_type": "code",
   "execution_count": 14,
   "id": "bec0e8d2",
   "metadata": {},
   "outputs": [
    {
     "data": {
      "text/plain": [
       "({'bootstrap': True, 'max_features': 'auto', 'n_estimators': 380},\n",
       " 0.9974387808933456)"
      ]
     },
     "execution_count": 14,
     "metadata": {},
     "output_type": "execute_result"
    }
   ],
   "source": [
    "rf.best_params_ ,rf.best_score_"
   ]
  },
  {
   "cell_type": "code",
   "execution_count": 16,
   "id": "9cfae505",
   "metadata": {},
   "outputs": [],
   "source": [
    "predictions_rf = rf.predict(X_dtest)"
   ]
  },
  {
   "cell_type": "code",
   "execution_count": 17,
   "id": "f40ea381",
   "metadata": {},
   "outputs": [
    {
     "name": "stdout",
     "output_type": "stream",
     "text": [
      "Mean Square Error: 0.089\n",
      "Error Percentage: 0.58 %\n"
     ]
    }
   ],
   "source": [
    "error_rf = mean_squared_error(y_dtest,predictions_rf)\n",
    "print('Mean Square Error:', round(error_rf, 3))\n",
    "print('Error Percentage:', round(error_rf*100/y_dtest.mean(), 3), '%')"
   ]
  },
  {
   "cell_type": "code",
   "execution_count": null,
   "id": "b39a7f30",
   "metadata": {},
   "outputs": [],
   "source": []
  }
 ],
 "metadata": {
  "kernelspec": {
   "display_name": "Python 3 (ipykernel)",
   "language": "python",
   "name": "python3"
  },
  "language_info": {
   "codemirror_mode": {
    "name": "ipython",
    "version": 3
   },
   "file_extension": ".py",
   "mimetype": "text/x-python",
   "name": "python",
   "nbconvert_exporter": "python",
   "pygments_lexer": "ipython3",
   "version": "3.9.7"
  }
 },
 "nbformat": 4,
 "nbformat_minor": 5
}
